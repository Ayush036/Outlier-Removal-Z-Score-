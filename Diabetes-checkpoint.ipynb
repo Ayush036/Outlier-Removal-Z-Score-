{
 "cells": [
  {
   "cell_type": "code",
   "execution_count": 1,
   "metadata": {},
   "outputs": [],
   "source": [
    "import os\n",
    "os.chdir(\"D:\\\\Data Science Ayush\")"
   ]
  },
  {
   "cell_type": "code",
   "execution_count": 2,
   "metadata": {},
   "outputs": [],
   "source": [
    "import pandas as pd\n",
    "import seaborn as sns"
   ]
  },
  {
   "cell_type": "code",
   "execution_count": 3,
   "metadata": {},
   "outputs": [],
   "source": [
    "dataset=pd.read_csv(\"diabetes.csv\")"
   ]
  },
  {
   "cell_type": "code",
   "execution_count": 4,
   "metadata": {},
   "outputs": [
    {
     "data": {
      "text/html": [
       "<div>\n",
       "<style scoped>\n",
       "    .dataframe tbody tr th:only-of-type {\n",
       "        vertical-align: middle;\n",
       "    }\n",
       "\n",
       "    .dataframe tbody tr th {\n",
       "        vertical-align: top;\n",
       "    }\n",
       "\n",
       "    .dataframe thead th {\n",
       "        text-align: right;\n",
       "    }\n",
       "</style>\n",
       "<table border=\"1\" class=\"dataframe\">\n",
       "  <thead>\n",
       "    <tr style=\"text-align: right;\">\n",
       "      <th></th>\n",
       "      <th>Pregnancies</th>\n",
       "      <th>Glucose</th>\n",
       "      <th>BloodPressure</th>\n",
       "      <th>SkinThickness</th>\n",
       "      <th>Insulin</th>\n",
       "      <th>BMI</th>\n",
       "      <th>DiabetesPedigreeFunction</th>\n",
       "      <th>Age</th>\n",
       "      <th>Outcome</th>\n",
       "    </tr>\n",
       "  </thead>\n",
       "  <tbody>\n",
       "    <tr>\n",
       "      <th>0</th>\n",
       "      <td>6</td>\n",
       "      <td>148</td>\n",
       "      <td>72</td>\n",
       "      <td>35</td>\n",
       "      <td>0</td>\n",
       "      <td>33.6</td>\n",
       "      <td>0.627</td>\n",
       "      <td>50</td>\n",
       "      <td>1</td>\n",
       "    </tr>\n",
       "    <tr>\n",
       "      <th>1</th>\n",
       "      <td>1</td>\n",
       "      <td>85</td>\n",
       "      <td>66</td>\n",
       "      <td>29</td>\n",
       "      <td>0</td>\n",
       "      <td>26.6</td>\n",
       "      <td>0.351</td>\n",
       "      <td>31</td>\n",
       "      <td>0</td>\n",
       "    </tr>\n",
       "    <tr>\n",
       "      <th>2</th>\n",
       "      <td>8</td>\n",
       "      <td>183</td>\n",
       "      <td>64</td>\n",
       "      <td>0</td>\n",
       "      <td>0</td>\n",
       "      <td>23.3</td>\n",
       "      <td>0.672</td>\n",
       "      <td>32</td>\n",
       "      <td>1</td>\n",
       "    </tr>\n",
       "    <tr>\n",
       "      <th>3</th>\n",
       "      <td>1</td>\n",
       "      <td>89</td>\n",
       "      <td>66</td>\n",
       "      <td>23</td>\n",
       "      <td>94</td>\n",
       "      <td>28.1</td>\n",
       "      <td>0.167</td>\n",
       "      <td>21</td>\n",
       "      <td>0</td>\n",
       "    </tr>\n",
       "    <tr>\n",
       "      <th>4</th>\n",
       "      <td>0</td>\n",
       "      <td>137</td>\n",
       "      <td>40</td>\n",
       "      <td>35</td>\n",
       "      <td>168</td>\n",
       "      <td>43.1</td>\n",
       "      <td>2.288</td>\n",
       "      <td>33</td>\n",
       "      <td>1</td>\n",
       "    </tr>\n",
       "  </tbody>\n",
       "</table>\n",
       "</div>"
      ],
      "text/plain": [
       "   Pregnancies  Glucose  BloodPressure  SkinThickness  Insulin   BMI  \\\n",
       "0            6      148             72             35        0  33.6   \n",
       "1            1       85             66             29        0  26.6   \n",
       "2            8      183             64              0        0  23.3   \n",
       "3            1       89             66             23       94  28.1   \n",
       "4            0      137             40             35      168  43.1   \n",
       "\n",
       "   DiabetesPedigreeFunction  Age  Outcome  \n",
       "0                     0.627   50        1  \n",
       "1                     0.351   31        0  \n",
       "2                     0.672   32        1  \n",
       "3                     0.167   21        0  \n",
       "4                     2.288   33        1  "
      ]
     },
     "execution_count": 4,
     "metadata": {},
     "output_type": "execute_result"
    }
   ],
   "source": [
    "dataset.head()"
   ]
  },
  {
   "cell_type": "code",
   "execution_count": 23,
   "metadata": {},
   "outputs": [
    {
     "data": {
      "text/plain": [
       "Pregnancies                   int64\n",
       "Glucose                       int64\n",
       "BloodPressure                 int64\n",
       "SkinThickness                 int64\n",
       "Insulin                       int64\n",
       "BMI                         float64\n",
       "DiabetesPedigreeFunction    float64\n",
       "Age                           int64\n",
       "Outcome                       int64\n",
       "dtype: object"
      ]
     },
     "execution_count": 23,
     "metadata": {},
     "output_type": "execute_result"
    }
   ],
   "source": [
    "dataset.dtypes"
   ]
  },
  {
   "cell_type": "code",
   "execution_count": 40,
   "metadata": {},
   "outputs": [
    {
     "name": "stdout",
     "output_type": "stream",
     "text": [
      " outlier  15 in column Pregnancies\n",
      " outlier  17 in column Pregnancies\n",
      " outlier  14 in column Pregnancies\n",
      " outlier  14 in column Pregnancies\n",
      " outlier  0 in column Glucose\n",
      " outlier  0 in column Glucose\n",
      " outlier  0 in column Glucose\n",
      " outlier  0 in column Glucose\n",
      " outlier  0 in column Glucose\n",
      " outlier  0 in column BloodPressure\n",
      " outlier  0 in column BloodPressure\n",
      " outlier  0 in column BloodPressure\n",
      " outlier  0 in column BloodPressure\n",
      " outlier  0 in column BloodPressure\n",
      " outlier  0 in column BloodPressure\n",
      " outlier  0 in column BloodPressure\n",
      " outlier  0 in column BloodPressure\n",
      " outlier  0 in column BloodPressure\n",
      " outlier  0 in column BloodPressure\n",
      " outlier  0 in column BloodPressure\n",
      " outlier  0 in column BloodPressure\n",
      " outlier  0 in column BloodPressure\n",
      " outlier  0 in column BloodPressure\n",
      " outlier  0 in column BloodPressure\n",
      " outlier  0 in column BloodPressure\n",
      " outlier  0 in column BloodPressure\n",
      " outlier  0 in column BloodPressure\n",
      " outlier  0 in column BloodPressure\n",
      " outlier  0 in column BloodPressure\n",
      " outlier  0 in column BloodPressure\n",
      " outlier  0 in column BloodPressure\n",
      " outlier  0 in column BloodPressure\n",
      " outlier  0 in column BloodPressure\n",
      " outlier  0 in column BloodPressure\n",
      " outlier  0 in column BloodPressure\n",
      " outlier  0 in column BloodPressure\n",
      " outlier  0 in column BloodPressure\n",
      " outlier  0 in column BloodPressure\n",
      " outlier  0 in column BloodPressure\n",
      " outlier  0 in column BloodPressure\n",
      " outlier  0 in column BloodPressure\n",
      " outlier  0 in column BloodPressure\n",
      " outlier  0 in column BloodPressure\n",
      " outlier  0 in column BloodPressure\n",
      " outlier  99 in column SkinThickness\n",
      " outlier  543 in column Insulin\n",
      " outlier  846 in column Insulin\n",
      " outlier  495 in column Insulin\n",
      " outlier  485 in column Insulin\n",
      " outlier  495 in column Insulin\n",
      " outlier  478 in column Insulin\n",
      " outlier  744 in column Insulin\n",
      " outlier  680 in column Insulin\n",
      " outlier  545 in column Insulin\n",
      " outlier  465 in column Insulin\n",
      " outlier  579 in column Insulin\n",
      " outlier  474 in column Insulin\n",
      " outlier  480 in column Insulin\n",
      " outlier  600 in column Insulin\n",
      " outlier  440 in column Insulin\n",
      " outlier  540 in column Insulin\n",
      " outlier  480 in column Insulin\n",
      " outlier  510 in column Insulin\n",
      " outlier  0.0 in column BMI\n",
      " outlier  0.0 in column BMI\n",
      " outlier  0.0 in column BMI\n",
      " outlier  0.0 in column BMI\n",
      " outlier  0.0 in column BMI\n",
      " outlier  67.1 in column BMI\n",
      " outlier  0.0 in column BMI\n",
      " outlier  0.0 in column BMI\n",
      " outlier  59.4 in column BMI\n",
      " outlier  0.0 in column BMI\n",
      " outlier  0.0 in column BMI\n",
      " outlier  57.3 in column BMI\n",
      " outlier  0.0 in column BMI\n",
      " outlier  0.0 in column BMI\n",
      " outlier  2.2880000000000003 in column DiabetesPedigreeFunction\n",
      " outlier  1.893 in column DiabetesPedigreeFunction\n",
      " outlier  1.781 in column DiabetesPedigreeFunction\n",
      " outlier  2.329 in column DiabetesPedigreeFunction\n",
      " outlier  1.476 in column DiabetesPedigreeFunction\n",
      " outlier  2.137 in column DiabetesPedigreeFunction\n",
      " outlier  1.7309999999999999 in column DiabetesPedigreeFunction\n",
      " outlier  1.6 in column DiabetesPedigreeFunction\n",
      " outlier  2.42 in column DiabetesPedigreeFunction\n",
      " outlier  1.699 in column DiabetesPedigreeFunction\n",
      " outlier  1.6980000000000002 in column DiabetesPedigreeFunction\n",
      " outlier  69 in column Age\n",
      " outlier  72 in column Age\n",
      " outlier  81 in column Age\n",
      " outlier  70 in column Age\n",
      " outlier  69 in column Age\n"
     ]
    }
   ],
   "source": [
    "import numpy as np\n",
    "#for i in dataset.columns:\n",
    "def zscore(i):\n",
    "    mean=np.mean(dataset[i])\n",
    "    std=np.std(dataset[i])\n",
    "    for i in dataset[i]:\n",
    "        score=abs((i-mean)/std)\n",
    "        if score>3:\n",
    "            print(\" outlier \" , i , \"in column\" , j)\n",
    "for j in dataset.columns:    \n",
    "    zscore(j)        "
   ]
  },
  {
   "cell_type": "code",
   "execution_count": 86,
   "metadata": {},
   "outputs": [
    {
     "data": {
      "text/plain": [
       "(768, 9)"
      ]
     },
     "execution_count": 86,
     "metadata": {},
     "output_type": "execute_result"
    }
   ],
   "source": [
    "dataset.shape"
   ]
  },
  {
   "cell_type": "code",
   "execution_count": 63,
   "metadata": {},
   "outputs": [],
   "source": [
    "filter=[]\n",
    "#pos=0\n",
    "import numpy as np\n",
    "for j in dataset.columns:\n",
    "    pos=-1\n",
    "    mean=np.mean(dataset[j])\n",
    "    std=np.std(dataset[j])\n",
    "    for i in dataset[j]:\n",
    "        pos=pos+1\n",
    "        score=abs((i-mean)/std)\n",
    "        if score>3:\n",
    "            #print(i)\n",
    "            #print(pos)\n",
    "            filter.append(pos)\n",
    "            "
   ]
  },
  {
   "cell_type": "code",
   "execution_count": 79,
   "metadata": {
    "collapsed": true
   },
   "outputs": [
    {
     "data": {
      "text/plain": [
       "[88,\n",
       " 159,\n",
       " 298,\n",
       " 455,\n",
       " 75,\n",
       " 182,\n",
       " 342,\n",
       " 349,\n",
       " 502,\n",
       " 7,\n",
       " 15,\n",
       " 49,\n",
       " 60,\n",
       " 78,\n",
       " 81,\n",
       " 172,\n",
       " 193,\n",
       " 222,\n",
       " 261,\n",
       " 266,\n",
       " 269,\n",
       " 300,\n",
       " 332,\n",
       " 336,\n",
       " 347,\n",
       " 357,\n",
       " 426,\n",
       " 430,\n",
       " 435,\n",
       " 453,\n",
       " 468,\n",
       " 484,\n",
       " 494,\n",
       " 522,\n",
       " 533,\n",
       " 535,\n",
       " 589,\n",
       " 601,\n",
       " 604,\n",
       " 619,\n",
       " 643,\n",
       " 697,\n",
       " 703,\n",
       " 706,\n",
       " 579,\n",
       " 8,\n",
       " 13,\n",
       " 111,\n",
       " 153,\n",
       " 186,\n",
       " 220,\n",
       " 228,\n",
       " 247,\n",
       " 286,\n",
       " 370,\n",
       " 409,\n",
       " 415,\n",
       " 486,\n",
       " 584,\n",
       " 645,\n",
       " 655,\n",
       " 695,\n",
       " 753,\n",
       " 9,\n",
       " 49,\n",
       " 60,\n",
       " 81,\n",
       " 145,\n",
       " 177,\n",
       " 371,\n",
       " 426,\n",
       " 445,\n",
       " 494,\n",
       " 522,\n",
       " 673,\n",
       " 684,\n",
       " 706,\n",
       " 4,\n",
       " 45,\n",
       " 58,\n",
       " 228,\n",
       " 330,\n",
       " 370,\n",
       " 371,\n",
       " 395,\n",
       " 445,\n",
       " 593,\n",
       " 621,\n",
       " 123,\n",
       " 453,\n",
       " 459,\n",
       " 666,\n",
       " 684]"
      ]
     },
     "execution_count": 79,
     "metadata": {},
     "output_type": "execute_result"
    }
   ],
   "source": [
    "filter"
   ]
  },
  {
   "cell_type": "code",
   "execution_count": 69,
   "metadata": {},
   "outputs": [],
   "source": [
    "df=dataset.iloc[filter,:]"
   ]
  },
  {
   "cell_type": "code",
   "execution_count": 77,
   "metadata": {},
   "outputs": [],
   "source": [
    "result_dataset=dataset.drop(filter)"
   ]
  },
  {
   "cell_type": "code",
   "execution_count": 87,
   "metadata": {
    "scrolled": false
   },
   "outputs": [
    {
     "name": "stdout",
     "output_type": "stream",
     "text": [
      "(768, 9) (688, 9)\n"
     ]
    }
   ],
   "source": [
    "print(dataset.shape,result_dataset.shape)"
   ]
  }
 ],
 "metadata": {
  "kernelspec": {
   "display_name": "Python 3",
   "language": "python",
   "name": "python3"
  },
  "language_info": {
   "codemirror_mode": {
    "name": "ipython",
    "version": 3
   },
   "file_extension": ".py",
   "mimetype": "text/x-python",
   "name": "python",
   "nbconvert_exporter": "python",
   "pygments_lexer": "ipython3",
   "version": "3.8.3"
  }
 },
 "nbformat": 4,
 "nbformat_minor": 4
}
